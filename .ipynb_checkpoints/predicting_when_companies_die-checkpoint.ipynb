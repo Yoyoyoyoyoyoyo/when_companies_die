{
 "cells": [
  {
   "cell_type": "markdown",
   "metadata": {},
   "source": [
    "# Starting with lots of data and a good understanding of that data from *lifespan_of_companies*, we'll make a function to put in an API that will return the probability of a company going out of business in the next 2 years.\n"
   ]
  },
  {
   "cell_type": "markdown",
   "metadata": {},
   "source": [
    "## Step 1: get the data ready for analysis"
   ]
  },
  {
   "cell_type": "code",
   "execution_count": 21,
   "metadata": {},
   "outputs": [],
   "source": [
    "import pandas as pd\n",
    "import numpy as np\n",
    "import statsmodels.api as sm\n",
    "import matplotlib.pyplot as plt\n",
    "import elasticsearch\n",
    "import elasticsearch.helpers\n",
    "import collections\n",
    "from pandas.io.json import json_normalize"
   ]
  },
  {
   "cell_type": "code",
   "execution_count": 12,
   "metadata": {},
   "outputs": [
    {
     "name": "stdout",
     "output_type": "stream",
     "text": [
      "(43684, 23)\n"
     ]
    }
   ],
   "source": [
    "# Data goes from Elasticsearch into Pandas:\n",
    "es = elasticsearch.Elasticsearch()\n",
    "\n",
    "data_to_load = elasticsearch.helpers.scan(\n",
    "                    es,\n",
    "                    query={\"query\": {\"match_all\": {}}},\n",
    "                    index=\"ri_sos\",\n",
    "                    doc_type=\"corporate_data\")\n",
    "\n",
    "# Initialize a double ended queue\n",
    "output_all = collections.deque()\n",
    "# Extend deque with iterator\n",
    "output_all.extend(data_to_load)\n",
    "only_data = [item[\"_source\"] for item in output_all]\n",
    "\n",
    "df = json_normalize(only_data)\n",
    "print(df.shape)"
   ]
  },
  {
   "cell_type": "markdown",
   "metadata": {},
   "source": [
    "## Add needed variables and, using what we learned in `lifespan_of_companies`, delete bad data\n",
    "### First our dependent variable: log_time_in_business"
   ]
  },
  {
   "cell_type": "code",
   "execution_count": 16,
   "metadata": {},
   "outputs": [],
   "source": [
    "# Convert date columns to the date format\n",
    "df['InactiveDate'] = pd.to_datetime(df['InactiveDate']).dt.date\n",
    "df['OrganisationDate'] = pd.to_datetime(df['OrganisationDate']).dt.date\n",
    "\n",
    "# Add the variable 'time_in_business' when we can calculate it:\n",
    "df.loc[df['InactiveDate'] != np.nan, 'time_in_business'] = (df['InactiveDate'] - df['OrganisationDate']).dt.days"
   ]
  },
  {
   "cell_type": "code",
   "execution_count": 17,
   "metadata": {},
   "outputs": [
    {
     "name": "stdout",
     "output_type": "stream",
     "text": [
      "3011     000000417\n",
      "29616    000000417\n",
      "30541    000002273\n",
      "Name: IDNumber, dtype: object\n"
     ]
    }
   ],
   "source": [
    "# Find examples where 'time_in_business' is negative (entity disolved before being formed, which is impossible):\n",
    "weird_rows = df.loc[df.time_in_business < 0]\n",
    "print(weird_rows.IDNumber)"
   ]
  },
  {
   "cell_type": "code",
   "execution_count": 18,
   "metadata": {},
   "outputs": [
    {
     "name": "stdout",
     "output_type": "stream",
     "text": [
      "Resulting shape: (43677, 24)\n"
     ]
    }
   ],
   "source": [
    "# If manual inspection shows you should delete them, then delete negatives and 0s:\n",
    "df.drop(df[df.time_in_business < 1].index, inplace=True)\n",
    "print(\"Resulting shape:\", df.shape)"
   ]
  },
  {
   "cell_type": "code",
   "execution_count": 19,
   "metadata": {},
   "outputs": [
    {
     "data": {
      "text/plain": [
       "count    32455.000000\n",
       "mean      3515.187829\n",
       "std       4116.401240\n",
       "min          1.000000\n",
       "25%       1030.000000\n",
       "50%       2120.000000\n",
       "75%       4303.000000\n",
       "max      61626.000000\n",
       "Name: time_in_business, dtype: float64"
      ]
     },
     "execution_count": 19,
     "metadata": {},
     "output_type": "execute_result"
    }
   ],
   "source": [
    "df.time_in_business.describe()"
   ]
  },
  {
   "cell_type": "code",
   "execution_count": 31,
   "metadata": {},
   "outputs": [
    {
     "data": {
      "image/png": "[encoded data removed]",
      "text/plain": [
       "<Figure size 432x288 with 1 Axes>"
      ]
     },
     "metadata": {
      "needs_background": "light"
     },
     "output_type": "display_data"
    }
   ],
   "source": [
    "# This variable is much more appropriate to work with as a log.\n",
    "# I did a lot of work on the best way to work with this variable in `lifespan_of_companies`, and here's the conclusion:\n",
    "\n",
    "## TODO: clean this up, do it all on df\n",
    "first_tib = df[[\"time_in_business\", \"IDNumber\"]].copy()\n",
    "first_tib[\"log_tib\"] = np.log(first_tib.time_in_business)\n",
    "first_tib['masked_tib'] = first_tib['log_tib']\n",
    "first_tib.loc[first_tib.log_tib < 4, 'masked_tib'] = 4\n",
    "df[\"log_time_in_business\"] = first_tib['masked_tib']\n",
    "\n",
    "# Graph it:\n",
    "plt.hist(df.log_time_in_business, bins = 35,\n",
    "         color = 'blue', edgecolor = 'black')\n",
    "plt.axis([0, 15, 0, df.shape[0] / 8])\n",
    "plt.xlabel('Log days in business', size = 22)\n",
    "plt.ylabel('# of companies', size= 22)\n",
    "\n",
    "plt.tight_layout()\n",
    "plt.show()"
   ]
  },
  {
   "cell_type": "markdown",
   "metadata": {},
   "source": [
    "### Make variables for the most common words in entity's names & descriptions, then remove useless ones"
   ]
  },
  {
   "cell_type": "code",
   "execution_count": null,
   "metadata": {},
   "outputs": [],
   "source": []
  },
  {
   "cell_type": "code",
   "execution_count": null,
   "metadata": {},
   "outputs": [],
   "source": []
  }
 ],
 "metadata": {
  "kernelspec": {
   "display_name": "Python 3",
   "language": "python",
   "name": "python3"
  },
  "language_info": {
   "codemirror_mode": {
    "name": "ipython",
    "version": 3
   },
   "file_extension": ".py",
   "mimetype": "text/x-python",
   "name": "python",
   "nbconvert_exporter": "python",
   "pygments_lexer": "ipython3",
   "version": "3.6.4"
  }
 },
 "nbformat": 4,
 "nbformat_minor": 2
}
