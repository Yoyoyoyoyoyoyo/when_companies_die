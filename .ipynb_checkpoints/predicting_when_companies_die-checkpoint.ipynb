{
 "cells": [
  {
   "cell_type": "markdown",
   "metadata": {},
   "source": [
    "# Starting with lots of data and a good understanding of that data from *lifespan_of_companies*, we'll make a function to put in an API that will return the probability of a company going out of business in the next 2 years.\n"
   ]
  },
  {
   "cell_type": "markdown",
   "metadata": {},
   "source": [
    "## Step 1: get the data ready for analysis"
   ]
  },
  {
   "cell_type": "code",
   "execution_count": 15,
   "metadata": {},
   "outputs": [],
   "source": [
    "import pandas as pd\n",
    "import numpy as np\n",
    "import statsmodels.api as sm\n",
    "import matplotlib.pyplot as plt\n",
    "import elasticsearch\n",
    "import elasticsearch.helpers\n",
    "import collections\n",
    "import re\n",
    "from pandas.io.json import json_normalize\n",
    "from nltk.stem import PorterStemmer\n",
    "from collections import Counter\n",
    "from sklearn.model_selection import train_test_split"
   ]
  },
  {
   "cell_type": "code",
   "execution_count": 2,
   "metadata": {},
   "outputs": [
    {
     "name": "stdout",
     "output_type": "stream",
     "text": [
      "(43684, 23)\n"
     ]
    }
   ],
   "source": [
    "# Data goes from Elasticsearch into Pandas:\n",
    "es = elasticsearch.Elasticsearch()\n",
    "\n",
    "data_to_load = elasticsearch.helpers.scan(\n",
    "                    es,\n",
    "                    query={\"query\": {\"match_all\": {}}},\n",
    "                    index=\"ri_sos\",\n",
    "                    doc_type=\"corporate_data\")\n",
    "\n",
    "# Initialize a double ended queue\n",
    "output_all = collections.deque()\n",
    "# Extend deque with iterator\n",
    "output_all.extend(data_to_load)\n",
    "only_data = [item[\"_source\"] for item in output_all]\n",
    "\n",
    "df = json_normalize(only_data)\n",
    "print(df.shape)"
   ]
  },
  {
   "cell_type": "markdown",
   "metadata": {},
   "source": [
    "## Add needed variables and, using what we learned in `lifespan_of_companies`, delete bad data\n",
    "### First our dependent variable: log_time_in_business"
   ]
  },
  {
   "cell_type": "code",
   "execution_count": 3,
   "metadata": {},
   "outputs": [],
   "source": [
    "# Convert date columns to the date format\n",
    "df['InactiveDate'] = pd.to_datetime(df['InactiveDate']).dt.date\n",
    "df['OrganisationDate'] = pd.to_datetime(df['OrganisationDate']).dt.date\n",
    "\n",
    "# Add the variable 'time_in_business' when we can calculate it:\n",
    "df.loc[df['InactiveDate'] != np.nan, 'time_in_business'] = (df['InactiveDate'] - df['OrganisationDate']).dt.days"
   ]
  },
  {
   "cell_type": "code",
   "execution_count": 4,
   "metadata": {},
   "outputs": [
    {
     "name": "stdout",
     "output_type": "stream",
     "text": [
      "3011     000000417\n",
      "29616    000000417\n",
      "30541    000002273\n",
      "Name: IDNumber, dtype: object\n"
     ]
    }
   ],
   "source": [
    "# Find examples where 'time_in_business' is negative (entity disolved before being formed, which is impossible):\n",
    "weird_rows = df.loc[df.time_in_business < 0]\n",
    "print(weird_rows.IDNumber)"
   ]
  },
  {
   "cell_type": "code",
   "execution_count": 5,
   "metadata": {},
   "outputs": [
    {
     "name": "stdout",
     "output_type": "stream",
     "text": [
      "Resulting shape: (43677, 24)\n"
     ]
    }
   ],
   "source": [
    "# If manual inspection shows you should delete them, then delete negatives and 0s:\n",
    "df.drop(df[df.time_in_business < 1].index, inplace=True)\n",
    "print(\"Resulting shape:\", df.shape)"
   ]
  },
  {
   "cell_type": "code",
   "execution_count": 6,
   "metadata": {},
   "outputs": [
    {
     "data": {
      "text/plain": [
       "count    32455.000000\n",
       "mean      3515.187829\n",
       "std       4116.401240\n",
       "min          1.000000\n",
       "25%       1030.000000\n",
       "50%       2120.000000\n",
       "75%       4303.000000\n",
       "max      61626.000000\n",
       "Name: time_in_business, dtype: float64"
      ]
     },
     "execution_count": 6,
     "metadata": {},
     "output_type": "execute_result"
    }
   ],
   "source": [
    "df.time_in_business.describe()"
   ]
  },
  {
   "cell_type": "code",
   "execution_count": 8,
   "metadata": {},
   "outputs": [],
   "source": [
    "# This variable is much more appropriate to work with as a log.\n",
    "# I did a lot of work on the best way to work with this variable in `lifespan_of_companies`, and here's the conclusion:\n",
    "\n",
    "## TODO: clean this up, do it all on df\n",
    "first_tib = df[[\"time_in_business\", \"IDNumber\"]].copy()\n",
    "first_tib[\"log_tib\"] = np.log(first_tib.time_in_business)\n",
    "first_tib['masked_tib'] = first_tib['log_tib']\n",
    "first_tib.loc[first_tib.log_tib < 4, 'masked_tib'] = 4\n",
    "df[\"log_time_in_business\"] = first_tib['masked_tib']"
   ]
  },
  {
   "cell_type": "code",
   "execution_count": 11,
   "metadata": {},
   "outputs": [
    {
     "data": {
      "image/png": "[encoded data removed]",
      "text/plain": [
       "<Figure size 432x288 with 1 Axes>"
      ]
     },
     "metadata": {
      "needs_background": "light"
     },
     "output_type": "display_data"
    }
   ],
   "source": [
    "# Graph log_time_in_business:\n",
    "plt.hist(df.log_time_in_business, bins = 35,\n",
    "         color = 'blue', edgecolor = 'black')\n",
    "plt.axis([0, 15, 0, df.shape[0] / 15])\n",
    "plt.xlabel('Log days in business', size = 22)\n",
    "plt.ylabel('# of companies', size= 22)\n",
    "\n",
    "plt.tight_layout()\n",
    "plt.show()"
   ]
  },
  {
   "cell_type": "markdown",
   "metadata": {},
   "source": [
    "### Make variables for the most common and meaningful words in entity's names"
   ]
  },
  {
   "cell_type": "code",
   "execution_count": 22,
   "metadata": {},
   "outputs": [
    {
     "name": "stdout",
     "output_type": "stream",
     "text": [
      "[('inc', 24190), ('llc', 8618), ('&', 3230), ('corporation', 2117), ('of', 2010), ('the', 1948), ('realty', 1774), ('company', 1739), ('associates', 1604), ('co', 1506)]\n"
     ]
    }
   ],
   "source": [
    "# Remove all punctuation from the names of companies\n",
    "list_of_entity_names = [row[1] for row in df['EntityName'].iteritems()]\n",
    "\n",
    "list_of_names_w_o_punctuation = []\n",
    "for name in list_of_entity_names:\n",
    "    list_of_names_w_o_punctuation += [re.sub('\\,|\\.|\\!|\\;|\\:|\\?|', '', name)]\n",
    "\n",
    "# Break each name into a list of words so we can count the occurrence of each word\n",
    "adjusted_words_in_entity_names = []\n",
    "for words in list_of_names_w_o_punctuation:\n",
    "    for word in words.split():\n",
    "        adjusted_words_in_entity_names += [word.lower()]\n",
    "\n",
    "# Count the occurrence of each word:\n",
    "name_count = Counter(adjusted_words_in_entity_names)\n",
    "popular_names = name_count.most_common(300)\n",
    "print(popular_names[:10])"
   ]
  },
  {
   "cell_type": "code",
   "execution_count": 23,
   "metadata": {},
   "outputs": [
    {
     "name": "stdout",
     "output_type": "stream",
     "text": [
      "[('inc', 24190), ('llc', 8619), ('&', 3230), ('associ', 2492), ('corpor', 2158), ('servic', 2148), ('of', 2010), ('the', 1948), ('realti', 1774), ('compani', 1774)]\n"
     ]
    }
   ],
   "source": [
    "# Start by stemming entities names & descriptions. This makes words comparable across conjugations & forms,\n",
    "# but at a cost of occasionally making the resulting word less intelligible.\n",
    "stemmer = PorterStemmer()\n",
    "list_of_stems = [stemmer.stem(word) for word in adjusted_words_in_entity_names]\n",
    "\n",
    "# Count the occurrence of each word:\n",
    "stemmed_name_count = Counter(list_of_stems)\n",
    "stemmed_popular_names = stemmed_name_count.most_common(300)\n",
    "print(stemmed_popular_names[:10])"
   ]
  },
  {
   "cell_type": "code",
   "execution_count": 21,
   "metadata": {},
   "outputs": [
    {
     "name": "stdout",
     "output_type": "stream",
     "text": [
      "[('servic', 2148), ('realti', 1774), ('island', 1271), ('rhode', 1106), ('enterpris', 906), ('construct', 896), ('properti', 811), ('manag', 709), ('new', 610), ('develop', 550), ('invest', 535), ('limit', 519), ('system', 487), ('intern', 485), ('center', 483), ('england', 432), ('home', 422), ('auto', 421), ('provid', 410), ('commun', 399)]\n"
     ]
    }
   ],
   "source": [
    "# Exclude words either associated with the entity's legal status (we already have a variable for that)\n",
    "# or that are otherwise meaningless by themselves. \n",
    "words_to_exclude = ['inc', 'llc', 'corporation', 'the', 'of', 'company', 'associate', 'co', 'ltd', 'corp', 'and',\n",
    "                    'enterprise', 'association', 'group', 'associates', 'enterprises', 'incorporated', 'limited',\n",
    "                    'partnership', 'club', 'in', 'for', 'lp', 'an', 'corpor', 'associ', 'compani', 'incorpor',\n",
    "                    'busi', 'foundat', 'llp', 'title', 'to', 'as', 'on', 'gl', 'at', 'business', 'operate', 'titl']\n",
    "\n",
    "worthwhile_entity_words = [item for item in stemmed_popular_names if \n",
    "                           item[0] not in words_to_exclude and \n",
    "                           len(item[0]) > 1]\n",
    "print(worthwhile_entity_words[:20])"
   ]
  },
  {
   "cell_type": "markdown",
   "metadata": {},
   "source": [
    "### Do a similar process to get the most common and important words in entity's descriptions"
   ]
  },
  {
   "cell_type": "code",
   "execution_count": 24,
   "metadata": {},
   "outputs": [],
   "source": [
    "# The Comments variable is also called \"Purpose\" on Rhode Island's website. It's intended to be where companies describe\n",
    "# what kind of business they intend to do. Most companies give at least a brief answer, but plenty don't.\n",
    "# My favorite common fake response is \"Any Lawful Purpose.\"\n",
    "\n",
    "# Remove all punctuation and newline characters\n",
    "list_of_comments = [row[1] for row in df['Comments'].iteritems()]\n",
    "list_of_comments_w_o_punctuation = []\n",
    "for name in list_of_comments:\n",
    "    name = name.replace('\\n', ' ')\n",
    "    list_of_comments_w_o_punctuation += [re.sub('\\,|\\.|\\!|\\;|\\:|\\?|', '', name)]\n",
    "\n",
    "# Break each name into a list of words so we can count the occurrence of each word\n",
    "adjusted_words_in_entity_description = []\n",
    "for words in list_of_comments_w_o_punctuation:\n",
    "    for word in words.split():\n",
    "        adjusted_words_in_entity_description += [word.lower()]\n",
    "\n",
    "# Just like we did with EntityName, we need to stem the comments:\n",
    "list_of_stems = [stemmer.stem(word) for word in adjusted_words_in_entity_description]\n",
    "\n",
    "# Count the occurrence of each word:\n",
    "comment_count = Counter(list_of_stems)\n",
    "popular_comments = comment_count.most_common(300)"
   ]
  },
  {
   "cell_type": "code",
   "execution_count": 26,
   "metadata": {},
   "outputs": [
    {
     "name": "stdout",
     "output_type": "stream",
     "text": [
      "[('servic', 4385), ('real', 4380), ('estat', 3914), ('sale', 2844), ('oper', 2499), ('manag', 2056), ('provid', 1916), ('sell', 1866), ('develop', 1494), ('engag', 1435)]\n"
     ]
    }
   ],
   "source": [
    "# Remove words we don't want, including number clusters, which are references to the Rhode Island code, and aren't useful.\n",
    "def numbers_present(word):\n",
    "    return any(char.isdigit() for char in word[0])\n",
    "\n",
    "worthwhile_entity_descriptions = [item for item in popular_comments\n",
    "                                   if item[0] not in words_to_exclude\n",
    "                                   and len(item[0]) > 1\n",
    "                                   and not numbers_present(item)]\n",
    "print(worthwhile_entity_descriptions[:10])"
   ]
  },
  {
   "cell_type": "markdown",
   "metadata": {},
   "source": [
    "### Make variables for whether a company's name or self-description contains the most popular words or not"
   ]
  },
  {
   "cell_type": "code",
   "execution_count": 27,
   "metadata": {},
   "outputs": [
    {
     "data": {
      "text/plain": [
       "396"
      ]
     },
     "execution_count": 27,
     "metadata": {},
     "output_type": "execute_result"
    }
   ],
   "source": [
    "# These lists are based on the 300 most popular words in names or descriptions (before filtering out words).\n",
    "# That 300 number is very arbitrary.\n",
    "all_the_popular_words = [word[0] for word in worthwhile_entity_words]\n",
    "all_the_popular_words += [word[0] for word in worthwhile_entity_descriptions]\n",
    "new_variable_list = list(set(all_the_popular_words))\n",
    "len(new_variable_list)"
   ]
  },
  {
   "cell_type": "code",
   "execution_count": 41,
   "metadata": {},
   "outputs": [
    {
     "data": {
      "text/plain": [
       "(43677, 421)"
      ]
     },
     "execution_count": 41,
     "metadata": {},
     "output_type": "execute_result"
    }
   ],
   "source": [
    "# Add all our new variables to the dataframe\n",
    "new_keywords = dict.fromkeys(new_variable_list, pd.Series([0] * len(df)))\n",
    "df = df.assign(**new_keywords)\n",
    "df.shape"
   ]
  },
  {
   "cell_type": "code",
   "execution_count": 29,
   "metadata": {},
   "outputs": [],
   "source": [
    "# Return a list of all words present in a company's name/description, scrubbed the same way we scrubbed them above\n",
    "def standardize_names_and_comments(entity_name, self_description):\n",
    "    combo_phrase = []\n",
    "    return_phrase = []\n",
    "\n",
    "    entity_name.replace('\\n', ' ')\n",
    "    self_description.replace('\\n', ' ')\n",
    "\n",
    "    for word in entity_name.split():\n",
    "        combo_phrase += [word.lower()]\n",
    "    for word in self_description.split():\n",
    "        combo_phrase += [word.lower()]\n",
    "\n",
    "    for word in combo_phrase:\n",
    "        return_phrase += [re.sub('\\,|\\.|\\!|\\;|\\:|\\?|', '', word)]\n",
    "\n",
    "    return list(set([stemmer.stem(word) for word in return_phrase if len(word) > 1]))"
   ]
  },
  {
   "cell_type": "code",
   "execution_count": 43,
   "metadata": {},
   "outputs": [],
   "source": [
    "# Iterate over each row in the df. Figure out which words they share with new_variable_list, and switch that value to 1\n",
    "for index, row in df.iterrows():\n",
    "    words_present = standardize_names_and_comments(row['EntityName'], row['Comments'])\n",
    "    for word in words_present:\n",
    "        if word in new_variable_list:\n",
    "            df.at[index, word] = 1"
   ]
  },
  {
   "cell_type": "code",
   "execution_count": 44,
   "metadata": {},
   "outputs": [
    {
     "data": {
      "text/plain": [
       "array([ 0.,  1., nan])"
      ]
     },
     "execution_count": 44,
     "metadata": {},
     "output_type": "execute_result"
    }
   ],
   "source": [
    "# As long as there are 2 unique values (0 and 1), then we know things worked:\n",
    "df.real.unique()"
   ]
  },
  {
   "cell_type": "code",
   "execution_count": 42,
   "metadata": {},
   "outputs": [
    {
     "data": {
      "text/html": [
       "<div>\n",
       "<style scoped>\n",
       "    .dataframe tbody tr th:only-of-type {\n",
       "        vertical-align: middle;\n",
       "    }\n",
       "\n",
       "    .dataframe tbody tr th {\n",
       "        vertical-align: top;\n",
       "    }\n",
       "\n",
       "    .dataframe thead th {\n",
       "        text-align: right;\n",
       "    }\n",
       "</style>\n",
       "<table border=\"1\" class=\"dataframe\">\n",
       "  <thead>\n",
       "    <tr style=\"text-align: right;\">\n",
       "      <th></th>\n",
       "      <th>Comments</th>\n",
       "      <th>ConsentFlag</th>\n",
       "      <th>EffectiveDate</th>\n",
       "      <th>EntityName</th>\n",
       "      <th>EntityType</th>\n",
       "      <th>IDNumber</th>\n",
       "      <th>InactiveDate</th>\n",
       "      <th>NIACS</th>\n",
       "      <th>OrganisationDate</th>\n",
       "      <th>PrincipleCity</th>\n",
       "      <th>...</th>\n",
       "      <th>usa</th>\n",
       "      <th>societi</th>\n",
       "      <th>promot</th>\n",
       "      <th>lend</th>\n",
       "      <th>develop</th>\n",
       "      <th>trade</th>\n",
       "      <th>not</th>\n",
       "      <th>properti</th>\n",
       "      <th>structur</th>\n",
       "      <th>publish</th>\n",
       "    </tr>\n",
       "  </thead>\n",
       "  <tbody>\n",
       "    <tr>\n",
       "      <th>43677</th>\n",
       "      <td>\\r\\n\\r\\nTITLE: 7-16</td>\n",
       "      <td>Y</td>\n",
       "      <td>03-06-2000</td>\n",
       "      <td>N.A.M. II Investment, LLC</td>\n",
       "      <td>Domestic Limited Liability Company</td>\n",
       "      <td>000111317</td>\n",
       "      <td>2002-10-07</td>\n",
       "      <td>None</td>\n",
       "      <td>2000-03-06</td>\n",
       "      <td>WARWICK,</td>\n",
       "      <td>...</td>\n",
       "      <td>NaN</td>\n",
       "      <td>NaN</td>\n",
       "      <td>NaN</td>\n",
       "      <td>NaN</td>\n",
       "      <td>NaN</td>\n",
       "      <td>NaN</td>\n",
       "      <td>NaN</td>\n",
       "      <td>NaN</td>\n",
       "      <td>NaN</td>\n",
       "      <td>NaN</td>\n",
       "    </tr>\n",
       "    <tr>\n",
       "      <th>43678</th>\n",
       "      <td>\\r\\nBAR, RESTAURANT AND LOUNGE\\r\\nTITLE: 7-16</td>\n",
       "      <td>Y</td>\n",
       "      <td>01-09-1998</td>\n",
       "      <td>THE SPORTS VIEW BAR, LLC</td>\n",
       "      <td>Domestic Limited Liability Company</td>\n",
       "      <td>000098578</td>\n",
       "      <td>NaT</td>\n",
       "      <td>None</td>\n",
       "      <td>1998-01-09</td>\n",
       "      <td>WARWICK,</td>\n",
       "      <td>...</td>\n",
       "      <td>NaN</td>\n",
       "      <td>NaN</td>\n",
       "      <td>NaN</td>\n",
       "      <td>NaN</td>\n",
       "      <td>NaN</td>\n",
       "      <td>NaN</td>\n",
       "      <td>NaN</td>\n",
       "      <td>NaN</td>\n",
       "      <td>NaN</td>\n",
       "      <td>NaN</td>\n",
       "    </tr>\n",
       "    <tr>\n",
       "      <th>43679</th>\n",
       "      <td>\\r\\nREAL ESTATE\\r\\nTITLE: 7-16</td>\n",
       "      <td>Y</td>\n",
       "      <td>11-28-1997</td>\n",
       "      <td>M &amp; M REALTY ASSOCIATES, LLC</td>\n",
       "      <td>Domestic Limited Liability Company</td>\n",
       "      <td>000097880</td>\n",
       "      <td>NaT</td>\n",
       "      <td>None</td>\n",
       "      <td>1997-11-28</td>\n",
       "      <td>NEWPORT,</td>\n",
       "      <td>...</td>\n",
       "      <td>NaN</td>\n",
       "      <td>NaN</td>\n",
       "      <td>NaN</td>\n",
       "      <td>NaN</td>\n",
       "      <td>NaN</td>\n",
       "      <td>NaN</td>\n",
       "      <td>NaN</td>\n",
       "      <td>NaN</td>\n",
       "      <td>NaN</td>\n",
       "      <td>NaN</td>\n",
       "    </tr>\n",
       "    <tr>\n",
       "      <th>43680</th>\n",
       "      <td>\\r\\n\\r\\nTITLE: 7-1.1-51</td>\n",
       "      <td>Y</td>\n",
       "      <td>06-22-1989</td>\n",
       "      <td>GEO REALTY SERVICES. INC</td>\n",
       "      <td>Domestic Profit Corporation</td>\n",
       "      <td>000056382</td>\n",
       "      <td>1993-06-30</td>\n",
       "      <td>None</td>\n",
       "      <td>1989-06-22</td>\n",
       "      <td></td>\n",
       "      <td>...</td>\n",
       "      <td>NaN</td>\n",
       "      <td>NaN</td>\n",
       "      <td>NaN</td>\n",
       "      <td>NaN</td>\n",
       "      <td>NaN</td>\n",
       "      <td>NaN</td>\n",
       "      <td>NaN</td>\n",
       "      <td>NaN</td>\n",
       "      <td>NaN</td>\n",
       "      <td>NaN</td>\n",
       "    </tr>\n",
       "    <tr>\n",
       "      <th>43681</th>\n",
       "      <td>\\r\\nOWN REAL ESTATE\\r\\nTITLE: 7-16</td>\n",
       "      <td>Y</td>\n",
       "      <td>02-23-2007</td>\n",
       "      <td>JENDZA PROPERTIES, LLC</td>\n",
       "      <td>Domestic Limited Liability Company</td>\n",
       "      <td>000162007</td>\n",
       "      <td>2015-11-30</td>\n",
       "      <td>None</td>\n",
       "      <td>2007-02-23</td>\n",
       "      <td>BARRINGTON,</td>\n",
       "      <td>...</td>\n",
       "      <td>NaN</td>\n",
       "      <td>NaN</td>\n",
       "      <td>NaN</td>\n",
       "      <td>NaN</td>\n",
       "      <td>NaN</td>\n",
       "      <td>NaN</td>\n",
       "      <td>NaN</td>\n",
       "      <td>NaN</td>\n",
       "      <td>NaN</td>\n",
       "      <td>NaN</td>\n",
       "    </tr>\n",
       "    <tr>\n",
       "      <th>43682</th>\n",
       "      <td>\\r\\n\\r\\nTITLE 7</td>\n",
       "      <td>Y</td>\n",
       "      <td>07-14-1982</td>\n",
       "      <td>Arabian Horse Association of Rhode Island</td>\n",
       "      <td>Domestic Non-Profit Corporation</td>\n",
       "      <td>000026669</td>\n",
       "      <td>NaT</td>\n",
       "      <td>None</td>\n",
       "      <td>1982-07-14</td>\n",
       "      <td></td>\n",
       "      <td>...</td>\n",
       "      <td>NaN</td>\n",
       "      <td>NaN</td>\n",
       "      <td>NaN</td>\n",
       "      <td>NaN</td>\n",
       "      <td>NaN</td>\n",
       "      <td>NaN</td>\n",
       "      <td>NaN</td>\n",
       "      <td>NaN</td>\n",
       "      <td>NaN</td>\n",
       "      <td>NaN</td>\n",
       "    </tr>\n",
       "    <tr>\n",
       "      <th>43683</th>\n",
       "      <td>\\r\\n\\r\\nTITLE: 7-16</td>\n",
       "      <td>Y</td>\n",
       "      <td>03-12-2001</td>\n",
       "      <td>Harold Realty, LLC</td>\n",
       "      <td>Domestic Limited Liability Company</td>\n",
       "      <td>000117272</td>\n",
       "      <td>2003-06-10</td>\n",
       "      <td>None</td>\n",
       "      <td>2001-03-12</td>\n",
       "      <td></td>\n",
       "      <td>...</td>\n",
       "      <td>NaN</td>\n",
       "      <td>NaN</td>\n",
       "      <td>NaN</td>\n",
       "      <td>NaN</td>\n",
       "      <td>NaN</td>\n",
       "      <td>NaN</td>\n",
       "      <td>NaN</td>\n",
       "      <td>NaN</td>\n",
       "      <td>NaN</td>\n",
       "      <td>NaN</td>\n",
       "    </tr>\n",
       "  </tbody>\n",
       "</table>\n",
       "<p>7 rows × 421 columns</p>\n",
       "</div>"
      ],
      "text/plain": [
       "                                            Comments ConsentFlag  \\\n",
       "43677                  \\r\\n\\r\\nTITLE: 7-16                     Y   \n",
       "43678  \\r\\nBAR, RESTAURANT AND LOUNGE\\r\\nTITLE: 7-16           Y   \n",
       "43679                 \\r\\nREAL ESTATE\\r\\nTITLE: 7-16           Y   \n",
       "43680                        \\r\\n\\r\\nTITLE: 7-1.1-51           Y   \n",
       "43681   \\r\\nOWN REAL ESTATE\\r\\nTITLE: 7-16                     Y   \n",
       "43682                                \\r\\n\\r\\nTITLE 7           Y   \n",
       "43683                  \\r\\n\\r\\nTITLE: 7-16                     Y   \n",
       "\n",
       "      EffectiveDate                                 EntityName  \\\n",
       "43677    03-06-2000                  N.A.M. II Investment, LLC   \n",
       "43678    01-09-1998                   THE SPORTS VIEW BAR, LLC   \n",
       "43679    11-28-1997               M & M REALTY ASSOCIATES, LLC   \n",
       "43680    06-22-1989                   GEO REALTY SERVICES. INC   \n",
       "43681    02-23-2007                     JENDZA PROPERTIES, LLC   \n",
       "43682    07-14-1982  Arabian Horse Association of Rhode Island   \n",
       "43683    03-12-2001                         Harold Realty, LLC   \n",
       "\n",
       "                               EntityType   IDNumber InactiveDate NIACS  \\\n",
       "43677  Domestic Limited Liability Company  000111317   2002-10-07  None   \n",
       "43678  Domestic Limited Liability Company  000098578          NaT  None   \n",
       "43679  Domestic Limited Liability Company  000097880          NaT  None   \n",
       "43680         Domestic Profit Corporation  000056382   1993-06-30  None   \n",
       "43681  Domestic Limited Liability Company  000162007   2015-11-30  None   \n",
       "43682     Domestic Non-Profit Corporation  000026669          NaT  None   \n",
       "43683  Domestic Limited Liability Company  000117272   2003-06-10  None   \n",
       "\n",
       "      OrganisationDate PrincipleCity  ... usa societi promot lend develop  \\\n",
       "43677       2000-03-06     WARWICK,   ... NaN     NaN    NaN  NaN     NaN   \n",
       "43678       1998-01-09     WARWICK,   ... NaN     NaN    NaN  NaN     NaN   \n",
       "43679       1997-11-28     NEWPORT,   ... NaN     NaN    NaN  NaN     NaN   \n",
       "43680       1989-06-22                ... NaN     NaN    NaN  NaN     NaN   \n",
       "43681       2007-02-23  BARRINGTON,   ... NaN     NaN    NaN  NaN     NaN   \n",
       "43682       1982-07-14                ... NaN     NaN    NaN  NaN     NaN   \n",
       "43683       2001-03-12                ... NaN     NaN    NaN  NaN     NaN   \n",
       "\n",
       "      trade not properti structur publish  \n",
       "43677   NaN NaN      NaN      NaN     NaN  \n",
       "43678   NaN NaN      NaN      NaN     NaN  \n",
       "43679   NaN NaN      NaN      NaN     NaN  \n",
       "43680   NaN NaN      NaN      NaN     NaN  \n",
       "43681   NaN NaN      NaN      NaN     NaN  \n",
       "43682   NaN NaN      NaN      NaN     NaN  \n",
       "43683   NaN NaN      NaN      NaN     NaN  \n",
       "\n",
       "[7 rows x 421 columns]"
      ]
     },
     "execution_count": 42,
     "metadata": {},
     "output_type": "execute_result"
    }
   ],
   "source": [
    "df.loc[pd.isna(df.real), :]"
   ]
  },
  {
   "cell_type": "code",
   "execution_count": null,
   "metadata": {},
   "outputs": [],
   "source": []
  }
 ],
 "metadata": {
  "kernelspec": {
   "display_name": "Python 3",
   "language": "python",
   "name": "python3"
  },
  "language_info": {
   "codemirror_mode": {
    "name": "ipython",
    "version": 3
   },
   "file_extension": ".py",
   "mimetype": "text/x-python",
   "name": "python",
   "nbconvert_exporter": "python",
   "pygments_lexer": "ipython3",
   "version": "3.6.4"
  }
 },
 "nbformat": 4,
 "nbformat_minor": 2
}
