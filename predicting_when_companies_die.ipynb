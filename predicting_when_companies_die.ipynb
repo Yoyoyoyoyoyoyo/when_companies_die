{
 "cells": [
  {
   "cell_type": "markdown",
   "metadata": {},
   "source": [
    "# Starting with lots of data and a good understanding of that data from *lifespan_of_companies*, we'll make a function to put in an API that will return the probability of a company going out of business in the next 2 years.\n"
   ]
  },
  {
   "cell_type": "markdown",
   "metadata": {},
   "source": [
    "## Step 1: get the data ready for analysis"
   ]
  },
  {
   "cell_type": "code",
   "execution_count": 1,
   "metadata": {},
   "outputs": [],
   "source": [
    "import pandas as pd\n",
    "import numpy as np\n",
    "import statsmodels.api as sm\n",
    "import matplotlib.pyplot as plt\n",
    "import elasticsearch\n",
    "import elasticsearch.helpers\n",
    "import collections\n",
    "import re\n",
    "import copy\n",
    "import datetime\n",
    "import math\n",
    "from pandas.io.json import json_normalize\n",
    "from nltk.stem import PorterStemmer\n",
    "from collections import Counter\n",
    "from sklearn.model_selection import train_test_split"
   ]
  },
  {
   "cell_type": "code",
   "execution_count": 2,
   "metadata": {},
   "outputs": [
    {
     "name": "stdout",
     "output_type": "stream",
     "text": [
      "(43684, 23)\n"
     ]
    }
   ],
   "source": [
    "# Data goes from Elasticsearch into Pandas:\n",
    "es = elasticsearch.Elasticsearch()\n",
    "\n",
    "data_to_load = elasticsearch.helpers.scan(\n",
    "                    es,\n",
    "                    query={\"query\": {\"match_all\": {}}},\n",
    "                    index=\"ri_sos\",\n",
    "                    doc_type=\"corporate_data\")\n",
    "\n",
    "# Initialize a double ended queue\n",
    "output_all = collections.deque()\n",
    "# Extend deque with iterator\n",
    "output_all.extend(data_to_load)\n",
    "only_data = [item[\"_source\"] for item in output_all]\n",
    "\n",
    "df = json_normalize(only_data)\n",
    "print(df.shape)"
   ]
  },
  {
   "cell_type": "markdown",
   "metadata": {},
   "source": [
    "## Add needed variables and, using what we learned in `lifespan_of_companies`, delete bad data\n",
    "### Our dependent variable is different for a survival analysis than it was in `lifespan_of_companies`. We need to include the logged time in business for both active & inactive companies, and keep track of whether companies are active or inactive."
   ]
  },
  {
   "cell_type": "code",
   "execution_count": 3,
   "metadata": {},
   "outputs": [],
   "source": [
    "# Convert date columns to the date format\n",
    "df['InactiveDate'] = pd.to_datetime(df['InactiveDate']).dt.date\n",
    "df['OrganisationDate'] = pd.to_datetime(df['OrganisationDate']).dt.date"
   ]
  },
  {
   "cell_type": "code",
   "execution_count": 4,
   "metadata": {},
   "outputs": [
    {
     "name": "stdout",
     "output_type": "stream",
     "text": [
      "3011     000000417\n",
      "29616    000000417\n",
      "30541    000002273\n",
      "Name: IDNumber, dtype: object\n"
     ]
    }
   ],
   "source": [
    "# Find examples where 'time_in_business' is negative (entity disolved before being formed, which is impossible):\n",
    "df.loc[df['InactiveDate'] != np.nan, 'time_in_business'] = (df['InactiveDate'] - df['OrganisationDate']).dt.days\n",
    "weird_rows = df.loc[df.time_in_business < 0]\n",
    "print(weird_rows.IDNumber)"
   ]
  },
  {
   "cell_type": "code",
   "execution_count": 5,
   "metadata": {},
   "outputs": [
    {
     "name": "stdout",
     "output_type": "stream",
     "text": [
      "Resulting shape: (43677, 24)\n"
     ]
    }
   ],
   "source": [
    "# If manual inspection shows you should delete them, then delete negatives and 0s:\n",
    "df.drop(df[df.time_in_business < 1].index, inplace=True)\n",
    "print(\"Resulting shape:\", df.shape)"
   ]
  },
  {
   "cell_type": "code",
   "execution_count": 6,
   "metadata": {},
   "outputs": [
    {
     "data": {
      "text/plain": [
       "count    32455.000000\n",
       "mean      3515.187829\n",
       "std       4116.401240\n",
       "min          1.000000\n",
       "25%       1030.000000\n",
       "50%       2120.000000\n",
       "75%       4303.000000\n",
       "max      61626.000000\n",
       "Name: time_in_business, dtype: float64"
      ]
     },
     "execution_count": 6,
     "metadata": {},
     "output_type": "execute_result"
    }
   ],
   "source": [
    "df.time_in_business.describe()"
   ]
  },
  {
   "cell_type": "code",
   "execution_count": 7,
   "metadata": {},
   "outputs": [
    {
     "name": "stdout",
     "output_type": "stream",
     "text": [
      "Original shape: (43677, 24)\n",
      "Shape after drops: (43658, 24)\n"
     ]
    }
   ],
   "source": [
    "# Some rows are missing OrganisationDate, which is a part of our dependent variable. Drop those rows.\n",
    "print(\"Original shape:\", df.shape)\n",
    "\n",
    "df.drop(df[pd.isnull(df.OrganisationDate)].index, inplace=True)\n",
    "print(\"Shape after drops:\", df.shape)"
   ]
  },
  {
   "cell_type": "code",
   "execution_count": 8,
   "metadata": {},
   "outputs": [
    {
     "data": {
      "text/plain": [
       "0    8.133000\n",
       "1    9.402695\n",
       "2    9.809616\n",
       "3    8.293049\n",
       "4    7.459339\n",
       "Name: log_censored_tib, dtype: float64"
      ]
     },
     "execution_count": 8,
     "metadata": {},
     "output_type": "execute_result"
    }
   ],
   "source": [
    "# Our dependent variable for a survival analysis is the time in business, whether the entity\n",
    "# has gone out of business or not. Assuming the data was pulled on 3/1/19:\n",
    "df.loc[pd.isnull(df.InactiveDate), 'log_censored_tib'] = np.log((datetime.date(2019, 3, 1) - df['OrganisationDate']).dt.days)\n",
    "df.loc[pd.notnull(df.InactiveDate), 'log_censored_tib'] = np.log((df['InactiveDate'] - df['OrganisationDate']).dt.days)\n",
    "\n",
    "df.log_censored_tib.head()"
   ]
  },
  {
   "cell_type": "code",
   "execution_count": 9,
   "metadata": {},
   "outputs": [
    {
     "data": {
      "image/png": "[encoded data removed]",
      "text/plain": [
       "<Figure size 432x288 with 1 Axes>"
      ]
     },
     "metadata": {
      "needs_background": "light"
     },
     "output_type": "display_data"
    }
   ],
   "source": [
    "# Graph log_censored_time_in_business:\n",
    "plt.hist(df.log_censored_tib, bins = 75,\n",
    "         color = 'blue', edgecolor = 'black')\n",
    "plt.axis([0, 15, 0, df.shape[0] / 15])\n",
    "plt.xlabel('Log censored days in business', size = 22)\n",
    "plt.ylabel('# of companies', size= 22)\n",
    "plt.title('Censored and uncensored')\n",
    "\n",
    "plt.tight_layout()\n",
    "plt.show()"
   ]
  },
  {
   "cell_type": "markdown",
   "metadata": {},
   "source": [
    "### This combined graph looks much less like a normal distribution than our prior graph of only entities that had gone out of business. Make a graph of the purely uncensored (entities still existing) data:"
   ]
  },
  {
   "cell_type": "code",
   "execution_count": 10,
   "metadata": {},
   "outputs": [
    {
     "name": "stdout",
     "output_type": "stream",
     "text": [
      "Inactive dates: 0    2005-10-07\n",
      "1           NaT\n",
      "2           NaT\n",
      "3    1998-11-10\n",
      "4    1989-09-21\n",
      "Name: InactiveDate, dtype: object\n",
      "\n",
      "Censored conclusion: 0    1\n",
      "1    0\n",
      "2    0\n",
      "3    1\n",
      "4    1\n",
      "Name: is_tib_censored, dtype: int32\n"
     ]
    }
   ],
   "source": [
    "# 1 == the event (company became inactive), 0 == censored (not inactive as of 3/1/2019)\n",
    "df['is_tib_censored'] = np.where(pd.notnull(df['InactiveDate']), 1, 0)\n",
    "\n",
    "print(\"Inactive dates:\", df.InactiveDate.head())\n",
    "print(\"\")\n",
    "print(\"Censored conclusion:\", df.is_tib_censored.head())"
   ]
  },
  {
   "cell_type": "code",
   "execution_count": 11,
   "metadata": {},
   "outputs": [
    {
     "data": {
      "image/png": "[encoded data removed]",
      "text/plain": [
       "<Figure size 432x288 with 1 Axes>"
      ]
     },
     "metadata": {
      "needs_background": "light"
     },
     "output_type": "display_data"
    }
   ],
   "source": [
    "df_uncensored_only = df[df.is_tib_censored == 0]\n",
    "\n",
    "plt.hist(df_uncensored_only.log_censored_tib, bins = 15,\n",
    "         color = 'blue', edgecolor = 'black')\n",
    "plt.axis([0, 15, 0, df.shape[0] / 15])\n",
    "plt.xlabel('Log censored days in business', size = 22)\n",
    "plt.ylabel('# of companies', size= 22)\n",
    "plt.title('Censored entities only')\n",
    "\n",
    "plt.tight_layout()\n",
    "plt.show()"
   ]
  },
  {
   "cell_type": "code",
   "execution_count": 12,
   "metadata": {},
   "outputs": [
    {
     "name": "stdout",
     "output_type": "stream",
     "text": [
      "Most recently organized: 2007-07-10\n",
      "Loggeg time_in_business for the most recently organized entity: 8.355\n"
     ]
    }
   ],
   "source": [
    "print(\"Most recently organized:\", df.OrganisationDate.max())\n",
    "print(\"Loggeg time_in_business for the most recently organized entity:\",\n",
    "      round(math.log((datetime.date(2019, 3, 1) - df.OrganisationDate.max()).days), 3))"
   ]
  },
  {
   "cell_type": "markdown",
   "metadata": {},
   "source": [
    "### This makes sense. I pulled the data in 2019, but the data I was pulling from didn't include recently organized entities. Our uncensored data looks normally distributed, and it's reasonable to assume that our censored entities will become inactive following that same path."
   ]
  },
  {
   "cell_type": "markdown",
   "metadata": {},
   "source": [
    "### Make variables for the most common and meaningful words in entity's names"
   ]
  },
  {
   "cell_type": "code",
   "execution_count": 13,
   "metadata": {},
   "outputs": [
    {
     "name": "stdout",
     "output_type": "stream",
     "text": [
      "[('inc', 24187), ('llc', 8618), ('&', 3230), ('corporation', 2117), ('of', 2005), ('the', 1943), ('realty', 1774), ('company', 1732), ('associates', 1604), ('co', 1506)]\n"
     ]
    }
   ],
   "source": [
    "# Remove all punctuation from the names of companies\n",
    "list_of_entity_names = [row[1] for row in df['EntityName'].iteritems()]\n",
    "\n",
    "list_of_names_w_o_punctuation = []\n",
    "for name in list_of_entity_names:\n",
    "    list_of_names_w_o_punctuation += [re.sub('\\,|\\.|\\!|\\;|\\:|\\?|', '', name)]\n",
    "\n",
    "# Break each name into a list of words so we can count the occurrence of each word\n",
    "adjusted_words_in_entity_names = []\n",
    "for words in list_of_names_w_o_punctuation:\n",
    "    for word in words.split():\n",
    "        adjusted_words_in_entity_names += [word.lower()]\n",
    "\n",
    "# Count the occurrence of each word:\n",
    "name_count = Counter(adjusted_words_in_entity_names)\n",
    "popular_names = name_count.most_common(300)\n",
    "print(popular_names[:10])"
   ]
  },
  {
   "cell_type": "code",
   "execution_count": 14,
   "metadata": {},
   "outputs": [
    {
     "name": "stdout",
     "output_type": "stream",
     "text": [
      "[('inc', 24187), ('llc', 8619), ('&', 3230), ('associ', 2492), ('corpor', 2158), ('servic', 2148), ('of', 2005), ('the', 1943), ('realti', 1774), ('compani', 1767)]\n"
     ]
    }
   ],
   "source": [
    "# Start by stemming entities names & descriptions. This makes words comparable across conjugations & forms,\n",
    "# but at a cost of occasionally making the resulting word less intelligible.\n",
    "stemmer = PorterStemmer()\n",
    "list_of_stems = [stemmer.stem(word) for word in adjusted_words_in_entity_names]\n",
    "\n",
    "# Count the occurrence of each word:\n",
    "stemmed_name_count = Counter(list_of_stems)\n",
    "stemmed_popular_names = stemmed_name_count.most_common(300)\n",
    "print(stemmed_popular_names[:10])"
   ]
  },
  {
   "cell_type": "code",
   "execution_count": 15,
   "metadata": {},
   "outputs": [
    {
     "name": "stdout",
     "output_type": "stream",
     "text": [
      "[('servic', 2148), ('realti', 1774), ('island', 1268), ('rhode', 1102), ('enterpris', 906), ('construct', 896), ('properti', 811), ('manag', 709), ('new', 610), ('develop', 550), ('invest', 535), ('limit', 519), ('system', 487), ('intern', 485), ('center', 483), ('england', 432), ('home', 422), ('auto', 421), ('provid', 408), ('product', 397)]\n"
     ]
    }
   ],
   "source": [
    "# Exclude words either associated with the entity's legal status (we already have a variable for that)\n",
    "# or that are otherwise meaningless by themselves. \n",
    "words_to_exclude = ['inc', 'llc', 'corporation', 'the', 'of', 'company', 'associate', 'co', 'ltd', 'corp', 'and',\n",
    "                    'enterprise', 'association', 'group', 'associates', 'enterprises', 'incorporated', 'limited',\n",
    "                    'partnership', 'club', 'in', 'for', 'lp', 'an', 'corpor', 'associ', 'compani', 'incorpor',\n",
    "                    'busi', 'foundat', 'llp', 'title', 'to', 'as', 'on', 'gl', 'at', 'business', 'operate', 'titl']\n",
    "\n",
    "worthwhile_entity_words = [item for item in stemmed_popular_names if \n",
    "                           item[0] not in words_to_exclude and \n",
    "                           len(item[0]) > 1]\n",
    "print(worthwhile_entity_words[:20])"
   ]
  },
  {
   "cell_type": "markdown",
   "metadata": {},
   "source": [
    "### Do a similar process to get the most common and important words in entity's descriptions"
   ]
  },
  {
   "cell_type": "code",
   "execution_count": 16,
   "metadata": {},
   "outputs": [],
   "source": [
    "# The Comments variable is also called \"Purpose\" on Rhode Island's website. It's intended to be where companies describe\n",
    "# what kind of business they intend to do. Most companies give at least a brief answer, but plenty don't.\n",
    "# My favorite common fake response is \"Any Lawful Purpose.\"\n",
    "\n",
    "# Remove all punctuation and newline characters\n",
    "list_of_comments = [row[1] for row in df['Comments'].iteritems()]\n",
    "list_of_comments_w_o_punctuation = []\n",
    "for name in list_of_comments:\n",
    "    name = name.replace('\\n', ' ')\n",
    "    list_of_comments_w_o_punctuation += [re.sub('\\,|\\.|\\!|\\;|\\:|\\?|', '', name)]\n",
    "\n",
    "# Break each name into a list of words so we can count the occurrence of each word\n",
    "adjusted_words_in_entity_description = []\n",
    "for words in list_of_comments_w_o_punctuation:\n",
    "    for word in words.split():\n",
    "        adjusted_words_in_entity_description += [word.lower()]\n",
    "\n",
    "# Just like we did with EntityName, we need to stem the comments:\n",
    "list_of_stems = [stemmer.stem(word) for word in adjusted_words_in_entity_description]\n",
    "\n",
    "# Count the occurrence of each word:\n",
    "comment_count = Counter(list_of_stems)\n",
    "popular_comments = comment_count.most_common(300)"
   ]
  },
  {
   "cell_type": "code",
   "execution_count": 17,
   "metadata": {},
   "outputs": [
    {
     "name": "stdout",
     "output_type": "stream",
     "text": [
      "[('servic', 4384), ('real', 4380), ('estat', 3914), ('sale', 2844), ('oper', 2499), ('manag', 2056), ('provid', 1916), ('sell', 1866), ('develop', 1494), ('engag', 1435)]\n"
     ]
    }
   ],
   "source": [
    "# Remove words we don't want, including number clusters, which are references to the Rhode Island code, and aren't useful.\n",
    "def numbers_present(word):\n",
    "    return any(char.isdigit() for char in word[0])\n",
    "\n",
    "worthwhile_entity_descriptions = [item for item in popular_comments\n",
    "                                   if item[0] not in words_to_exclude\n",
    "                                   and len(item[0]) > 1\n",
    "                                   and not numbers_present(item)]\n",
    "print(worthwhile_entity_descriptions[:10])"
   ]
  },
  {
   "cell_type": "markdown",
   "metadata": {},
   "source": [
    "### Make variables for whether a company's name or self-description contains the most popular words or not"
   ]
  },
  {
   "cell_type": "code",
   "execution_count": 18,
   "metadata": {},
   "outputs": [
    {
     "data": {
      "text/plain": [
       "396"
      ]
     },
     "execution_count": 18,
     "metadata": {},
     "output_type": "execute_result"
    }
   ],
   "source": [
    "# These lists are based on the 300 most popular words in names or descriptions (before filtering out words).\n",
    "# That 300 number is very arbitrary.\n",
    "all_the_popular_words = [word[0] for word in worthwhile_entity_words]\n",
    "all_the_popular_words += [word[0] for word in worthwhile_entity_descriptions]\n",
    "new_variable_list = list(set(all_the_popular_words))\n",
    "len(new_variable_list)"
   ]
  },
  {
   "cell_type": "code",
   "execution_count": 19,
   "metadata": {},
   "outputs": [
    {
     "data": {
      "text/plain": [
       "(43658, 422)"
      ]
     },
     "execution_count": 19,
     "metadata": {},
     "output_type": "execute_result"
    }
   ],
   "source": [
    "# Add all our new variables to the dataframe\n",
    "new_keywords = dict.fromkeys(new_variable_list, pd.Series([0] * len(df)))\n",
    "df = df.assign(**new_keywords)\n",
    "df.shape"
   ]
  },
  {
   "cell_type": "code",
   "execution_count": 20,
   "metadata": {},
   "outputs": [
    {
     "data": {
      "text/plain": [
       "array([ 0., nan])"
      ]
     },
     "execution_count": 20,
     "metadata": {},
     "output_type": "execute_result"
    }
   ],
   "source": [
    "df.street.unique()"
   ]
  },
  {
   "cell_type": "code",
   "execution_count": 21,
   "metadata": {},
   "outputs": [],
   "source": [
    "# For reasons I don't understand, this method is creating some values as 'nan' instead of '0'.\n",
    "# Fix that:\n",
    "for var in new_variable_list:\n",
    "    df[var] = 0"
   ]
  },
  {
   "cell_type": "code",
   "execution_count": 22,
   "metadata": {},
   "outputs": [
    {
     "data": {
      "text/plain": [
       "array([0], dtype=int64)"
      ]
     },
     "execution_count": 22,
     "metadata": {},
     "output_type": "execute_result"
    }
   ],
   "source": [
    "df.street.unique()"
   ]
  },
  {
   "cell_type": "code",
   "execution_count": 23,
   "metadata": {},
   "outputs": [],
   "source": [
    "# Return a list of all words present in a company's name/description, scrubbed the same way we scrubbed them above\n",
    "def standardize_names_and_comments(entity_name, self_description):\n",
    "    combo_phrase = []\n",
    "    return_phrase = []\n",
    "\n",
    "    entity_name.replace('\\n', ' ')\n",
    "    self_description.replace('\\n', ' ')\n",
    "\n",
    "    for word in entity_name.split():\n",
    "        combo_phrase += [word.lower()]\n",
    "    for word in self_description.split():\n",
    "        combo_phrase += [word.lower()]\n",
    "\n",
    "    for word in combo_phrase:\n",
    "        return_phrase += [re.sub('\\,|\\.|\\!|\\;|\\:|\\?|', '', word)]\n",
    "\n",
    "    return list(set([stemmer.stem(word) for word in return_phrase if len(word) > 1]))"
   ]
  },
  {
   "cell_type": "code",
   "execution_count": 24,
   "metadata": {},
   "outputs": [],
   "source": [
    "# Iterate over each row in the df. Figure out which words they share with new_variable_list, and switch that value to 1\n",
    "for index, row in df.iterrows():\n",
    "    words_present = standardize_names_and_comments(row['EntityName'], row['Comments'])\n",
    "    for word in words_present:\n",
    "        if word in new_variable_list:\n",
    "            df.at[index, word] = 1"
   ]
  },
  {
   "cell_type": "code",
   "execution_count": 25,
   "metadata": {},
   "outputs": [
    {
     "data": {
      "text/plain": [
       "array([0, 1], dtype=int64)"
      ]
     },
     "execution_count": 25,
     "metadata": {},
     "output_type": "execute_result"
    }
   ],
   "source": [
    "# As long as there are 2 unique values (0 and 1), then we know things worked:\n",
    "df.real.unique()"
   ]
  },
  {
   "cell_type": "markdown",
   "metadata": {},
   "source": [
    "### Make variables for the type of legal entity, and the number of directors & officers listed"
   ]
  },
  {
   "cell_type": "code",
   "execution_count": 26,
   "metadata": {},
   "outputs": [],
   "source": [
    "# Make dummy variables for all the types of legal entities that have been registered. We'll use all of them\n",
    "# but one in the analysis ('Foreign Corporation').\n",
    "\n",
    "entity_dummies = pd.get_dummies(df['EntityType'])\n",
    "df = pd.concat([df, entity_dummies], axis=1)"
   ]
  },
  {
   "cell_type": "code",
   "execution_count": 27,
   "metadata": {},
   "outputs": [
    {
     "data": {
      "text/plain": [
       "0    [PRESIDENT, JAMES H BOND , 2401 21ST AVENUE, S...\n",
       "1                                            [ ,  ,  ]\n",
       "2    [PRESIDENT, ETHAN ANDREW BLUMEN , 1881 BAY RD ...\n",
       "3    [PRESIDENT, CHARLES H RYBECK , 329 WICKENDEN S...\n",
       "4                                            [ ,  ,  ]\n",
       "Name: d_and_o, dtype: object"
      ]
     },
     "execution_count": 27,
     "metadata": {},
     "output_type": "execute_result"
    }
   ],
   "source": [
    "df.d_and_o.head()"
   ]
  },
  {
   "cell_type": "code",
   "execution_count": 28,
   "metadata": {},
   "outputs": [
    {
     "data": {
      "text/plain": [
       "<matplotlib.axes._subplots.AxesSubplot at 0x19999850>"
      ]
     },
     "execution_count": 28,
     "metadata": {},
     "output_type": "execute_result"
    },
    {
     "data": {
      "image/png": "[encoded data removed]",
      "text/plain": [
       "<Figure size 432x288 with 1 Axes>"
      ]
     },
     "metadata": {},
     "output_type": "display_data"
    }
   ],
   "source": [
    "# The D&O variable is a list of lists, and 3 items in a list = 1 director/officer.\n",
    "# Not all entities list any directors or officers.\n",
    "def char_count_excluding_blanks(word):\n",
    "    # Empty lines often return '\\xa0' instead of being blank. Fix that.\n",
    "    return re.sub('\\xa0', '', word)\n",
    "\n",
    "def count_people(df_row):\n",
    "    # Return how many directors and officers are listed in the `d_and_o` variable\n",
    "    if len(df_row.d_and_o) > 3:\n",
    "        return int(len(df_row.d_and_o) / 3)\n",
    "    first_list = [len(char_count_excluding_blanks(item)) for item in df_row.d_and_o]\n",
    "    char_count = sum(first_list)\n",
    "    if char_count:\n",
    "        return 1\n",
    "    return 0\n",
    "\n",
    "df['d_and_o_count'] = df.apply(count_people, axis=1)\n",
    "df.d_and_o_count.value_counts().plot.pie(autopct='%1.0f%%')"
   ]
  },
  {
   "cell_type": "code",
   "execution_count": 29,
   "metadata": {},
   "outputs": [
    {
     "data": {
      "text/plain": [
       "count    43658.000000\n",
       "mean         0.134752\n",
       "std          0.341462\n",
       "min          0.000000\n",
       "25%          0.000000\n",
       "50%          0.000000\n",
       "75%          0.000000\n",
       "max          1.000000\n",
       "Name: gt_one_officer, dtype: float64"
      ]
     },
     "execution_count": 29,
     "metadata": {},
     "output_type": "execute_result"
    }
   ],
   "source": [
    "# The number of officers listed is strange. It doesn't follow any discernable distribution,\n",
    "# and my guess for that is that different companies have different definitions of what it means\n",
    "# to be a director or officer. One company listed 120+ D&Os, while many only list senior officers.\n",
    "# There are several ways to explore this. For now I'm going to split it up as whether an entity\n",
    "# lists 1 or >1 D&O. It may be worthwhile to also have a variable for >2 & >3 D&Os, but I imagine\n",
    "# the variable's value falls of quickly around that point.\n",
    "df[\"gt_one_officer\"] = np.where(df.d_and_o_count > 1, 1, 0)\n",
    "df.gt_one_officer.describe()"
   ]
  },
  {
   "cell_type": "markdown",
   "metadata": {},
   "source": [
    "### The dataframe is too big in terms of memory. Shrink the dataframe's memory requirement."
   ]
  },
  {
   "cell_type": "code",
   "execution_count": 30,
   "metadata": {},
   "outputs": [
    {
     "name": "stdout",
     "output_type": "stream",
     "text": [
      "<class 'pandas.core.frame.DataFrame'>\n",
      "Int64Index: 43658 entries, 0 to 43683\n",
      "Columns: 443 entries, Comments to gt_one_officer\n",
      "dtypes: float64(2), int32(2), int64(397), object(23), uint8(19)\n",
      "memory usage: 173.0 MB\n"
     ]
    }
   ],
   "source": [
    "df.info(memory_usage='deep')"
   ]
  },
  {
   "cell_type": "code",
   "execution_count": 31,
   "metadata": {},
   "outputs": [
    {
     "name": "stdout",
     "output_type": "stream",
     "text": [
      "<class 'pandas.core.frame.DataFrame'>\n",
      "Int64Index: 43658 entries, 0 to 43683\n",
      "Columns: 443 entries, Comments to gt_one_officer\n",
      "dtypes: bool(415), float64(2), int32(2), int64(1), object(23)\n",
      "memory usage: 57.6 MB\n"
     ]
    }
   ],
   "source": [
    "# Convert the data types to types that use less memory\n",
    "for var in new_variable_list:\n",
    "    df[var] = df[var].astype('bool')\n",
    "for var in entity_dummies.columns:\n",
    "    df[var] = df[var].astype('bool')\n",
    "df.info(memory_usage='deep')"
   ]
  },
  {
   "cell_type": "markdown",
   "metadata": {},
   "source": [
    "### Split into 2 dataframes: one where there was information given for their D&Os, and another where there wasn't"
   ]
  },
  {
   "cell_type": "code",
   "execution_count": 32,
   "metadata": {},
   "outputs": [
    {
     "name": "stdout",
     "output_type": "stream",
     "text": [
      "With officers: (23404, 443)\n",
      "No officer info: (20254, 443)\n"
     ]
    }
   ],
   "source": [
    "df_w_officers = df[df['d_and_o_count'] >= 1]\n",
    "df_no_officers = df[df['d_and_o_count'] == 0]\n",
    "print(\"With officers:\", df_w_officers.shape)\n",
    "print(\"No officer info:\", df_no_officers.shape)"
   ]
  },
  {
   "cell_type": "markdown",
   "metadata": {},
   "source": [
    "# Step 2: regression time"
   ]
  },
  {
   "cell_type": "code",
   "execution_count": 33,
   "metadata": {},
   "outputs": [
    {
     "name": "stdout",
     "output_type": "stream",
     "text": [
      "413\n"
     ]
    }
   ],
   "source": [
    "vars_to_exclude = ['EntityName', 'ConsentFlag', 'Comments', 'EffectiveDate', 'EntityType',\n",
    "                   'IDNumber', 'InactiveDate', 'NIACS', 'OrganisationDate', \n",
    "                   'PrincipleCity', 'PrincipleZip', 'PrincipleState', 'PrincipleCountry', 'PrincipleStreet',\n",
    "                   'ResidentAgentFlag', 'ResidentAgentName', 'ResidentCity', 'ResidentState',\n",
    "                   'ResidentCountry', 'ResidentZip', 'ResidentStreet',\n",
    "                   'poisson_d_and_o', 'd_and_o_count', 'officers_listed',\n",
    "                   'stock_info', 'd_and_o', '(ma)**', '(de)**', '**merg', '12/31/88',\n",
    "                   'log_time_in_business', 'time_in_business', 'log_censored_tib',\n",
    "                   'InactiveDate', 'OrganisationDate',\n",
    "                   'Foreign Corporation']\n",
    "                    ## **merg is definitely a variable to come back & look at\n",
    "\n",
    "explanatory_variables = list(set(df.columns) - set(vars_to_exclude))\n",
    "explanatory_variables.sort()\n",
    "print(len(explanatory_variables))"
   ]
  },
  {
   "cell_type": "code",
   "execution_count": 34,
   "metadata": {},
   "outputs": [
    {
     "name": "stdout",
     "output_type": "stream",
     "text": [
      "With, w/o officers: 403 408\n"
     ]
    }
   ],
   "source": [
    "## There will be some variables that aren't in both datasets. Find them!\n",
    "explanatory_vars_w_officers = [item for item in explanatory_variables if len(df_w_officers[item].unique()) > 1]\n",
    "explanatory_vars_no_officers = [item for item in explanatory_variables if len(df_no_officers[item].unique()) > 1]\n",
    "\n",
    "print(\"With, w/o officers:\", len(explanatory_vars_w_officers), len(explanatory_vars_no_officers))"
   ]
  },
  {
   "cell_type": "code",
   "execution_count": 35,
   "metadata": {},
   "outputs": [],
   "source": [
    "# train_test_split\n",
    "X_train_officers, X_test_officers, y_train_officers, y_test_officers = train_test_split(\n",
    "                                                    df_w_officers[explanatory_vars_w_officers],\n",
    "                                                    df_w_officers['log_censored_tib'],\n",
    "                                                    test_size=0.2,\n",
    "                                                    random_state=5)\n",
    "\n",
    "X_train_no_officers, X_test_no_officers, y_train_no_officers, y_test_no_officers = train_test_split(\n",
    "                                                    df_no_officers[explanatory_vars_no_officers],\n",
    "                                                    df_no_officers['log_censored_tib'],\n",
    "                                                    test_size=0.2,\n",
    "                                                    random_state=5)"
   ]
  },
  {
   "cell_type": "code",
   "execution_count": 36,
   "metadata": {},
   "outputs": [],
   "source": [
    "# Remove 'is_tib_censored' from the test/train data in a way that keeps both sets usable\n",
    "X_train_officers2 = X_train_officers[X_train_officers.columns.difference(['is_tib_censored'])]"
   ]
  },
  {
   "cell_type": "code",
   "execution_count": null,
   "metadata": {},
   "outputs": [],
   "source": []
  },
  {
   "cell_type": "code",
   "execution_count": null,
   "metadata": {},
   "outputs": [],
   "source": []
  },
  {
   "cell_type": "code",
   "execution_count": 37,
   "metadata": {},
   "outputs": [],
   "source": [
    "# Test on a very reduced dataset:\n",
    "smaller_officers = copy.deepcopy(df_w_officers)\n",
    "X_train_officers, X_test_officers, y_train_officers, y_test_officers = train_test_split(\n",
    "                                                    smaller_officers[explanatory_vars_w_officers],\n",
    "                                                    smaller_officers['log_censored_tib'],\n",
    "                                                    test_size=0.2,\n",
    "                                                    random_state=5)\n",
    "\n",
    "#smaller_vars_w_officers = [item for item in explanatory_vars_w_officers if len(X_train_officers[item].unique()) > 1]\n",
    "smaller_vars_w_officers = [item for item in explanatory_vars_w_officers \\\n",
    "                           if len(X_train_officers[:15000][item].unique()) > 1]\n",
    "\n",
    "\n",
    "\n",
    "### WHAT I'M DOING HERE DOESN'T MAKE SENSE.\n",
    "## Why would the random split be the same for the first X_train_ vs the 2nd?\n",
    "## Does the same random_state guarantee the same split? Seems it should...\n",
    "## Why is there often an issue with 'Bank', the first item?\n",
    "\n",
    "\n",
    "\n",
    "var_size = 15\n",
    "if 'is_tib_censored' not in smaller_vars_w_officers[:var_size]:\n",
    "    tiny_vars = smaller_vars_w_officers[:var_size] + ['is_tib_censored']\n",
    "else:\n",
    "    tiny_vars = smaller_vars_w_officers[:var_size]\n",
    "#tiny_vars += smaller_vars_w_officers[38:40]\n",
    "\n",
    "X_train_officers, X_test_officers, y_train_officers, y_test_officers = train_test_split(\n",
    "                                                    smaller_officers[tiny_vars],\n",
    "                                                    smaller_officers['log_censored_tib'],\n",
    "                                                    test_size=0.2,\n",
    "                                                    random_state=5)\n",
    "X_train_officers2 = X_train_officers[X_train_officers.columns.difference(['is_tib_censored'])]\n",
    "#X_train_officers2 = X_train_officers[smaller_vars_w_officers]"
   ]
  },
  {
   "cell_type": "code",
   "execution_count": 40,
   "metadata": {},
   "outputs": [
    {
     "name": "stdout",
     "output_type": "stream",
     "text": [
      "(18723, 20)\n",
      "(18723, 21)\n",
      "Bank\n",
      "Domestic Non-Profit Corporation\n",
      "Domestic Profit Corporation\n",
      "Foreign Non-Profit Corporation\n",
      "Insurance\n",
      "Loan and Investment\n",
      "Non-Profit Producers' Cooperative\n",
      "Professional Service Corporation\n",
      "Transportation\n",
      "accessori\n",
      "account\n",
      "acquir\n",
      "acquisit\n",
      "act\n",
      "activ\n",
      "administr\n",
      "advanc\n",
      "advertis\n",
      "agenc\n",
      "agent\n"
     ]
    }
   ],
   "source": [
    "#X_train_officers2[pd.isnull(X_train_officers).any(axis=1)]\n",
    "print(X_train_officers2.shape)\n",
    "print(X_train_officers.shape)\n",
    "\n",
    "for item in X_train_officers2.columns:\n",
    "#for item in explanatory_vars_w_officers:\n",
    "    print(item)\n",
    "\n",
    "### Try skipping this variable to confirm the problem is with the variable.\n",
    "### list_[0:35] + list_[37:40]\n",
    "\n",
    "#print(smaller_vars_w_officers[35])\n",
    "#smaller_officers.automot.value_counts()"
   ]
  },
  {
   "cell_type": "code",
   "execution_count": 39,
   "metadata": {},
   "outputs": [
    {
     "name": "stderr",
     "output_type": "stream",
     "text": [
      "c:\\users\\aubre\\desktop\\github_math\\git_math\\lib\\site-packages\\statsmodels\\duration\\hazard_regression.py:811: RuntimeWarning: invalid value encountered in true_divide\n",
      "  hess += m*(xp2 / xp0  - np.outer(xp1, xp1) / xp0**2)\n",
      "c:\\users\\aubre\\desktop\\github_math\\git_math\\lib\\site-packages\\statsmodels\\duration\\hazard_regression.py:697: RuntimeWarning: invalid value encountered in true_divide\n",
      "  grad += (exog_s[ix,:] - xp1 / xp0).sum(0)\n",
      "c:\\users\\aubre\\desktop\\github_math\\git_math\\lib\\site-packages\\statsmodels\\base\\optimizer.py:271: RuntimeWarning: invalid value encountered in greater\n",
      "  oldparams) > tol)):\n",
      "c:\\users\\aubre\\desktop\\github_math\\git_math\\lib\\site-packages\\scipy\\stats\\_distn_infrastructure.py:877: RuntimeWarning: invalid value encountered in greater\n",
      "  return (self.a < x) & (x < self.b)\n",
      "c:\\users\\aubre\\desktop\\github_math\\git_math\\lib\\site-packages\\scipy\\stats\\_distn_infrastructure.py:877: RuntimeWarning: invalid value encountered in less\n",
      "  return (self.a < x) & (x < self.b)\n",
      "c:\\users\\aubre\\desktop\\github_math\\git_math\\lib\\site-packages\\scipy\\stats\\_distn_infrastructure.py:1831: RuntimeWarning: invalid value encountered in less_equal\n",
      "  cond2 = cond0 & (x <= self.a)\n"
     ]
    },
    {
     "data": {
      "text/html": [
       "<table class=\"simpletable\">\n",
       "<tr>\n",
       "        <td>Model:</td>             <td>PH Reg</td>      <td>Sample size:</td> <td>15000</td>\n",
       "</tr>\n",
       "<tr>\n",
       "  <td>Dependent variable:</td> <td>log_censored_tib</td> <td>Num. events:</td> <td>11197</td>\n",
       "</tr>\n",
       "<tr>\n",
       "         <td>Ties:</td>             <td>Breslow</td>           <td></td>         <td></td>   \n",
       "</tr>\n",
       "</table>\n",
       "<table class=\"simpletable\">\n",
       "<tr>\n",
       "                  <td></td>                  <th>log HR</th> <th>log HR SE</th> <th>HR</th>   <th>t</th>  <th>P>|t|</th> <th>[0.025</th> <th>0.975]</th>\n",
       "</tr>\n",
       "<tr>\n",
       "  <th>Bank</th>                                <td>nan</td>     <td>nan</td>    <td>nan</td> <td>nan</td>  <td>nan</td>    <td>nan</td>    <td>nan</td> \n",
       "</tr>\n",
       "<tr>\n",
       "  <th>Domestic Non-Profit Corporation</th>     <td>nan</td>     <td>nan</td>    <td>nan</td> <td>nan</td>  <td>nan</td>    <td>nan</td>    <td>nan</td> \n",
       "</tr>\n",
       "<tr>\n",
       "  <th>Domestic Profit Corporation</th>         <td>nan</td>     <td>nan</td>    <td>nan</td> <td>nan</td>  <td>nan</td>    <td>nan</td>    <td>nan</td> \n",
       "</tr>\n",
       "<tr>\n",
       "  <th>Foreign Non-Profit Corporation</th>      <td>nan</td>     <td>nan</td>    <td>nan</td> <td>nan</td>  <td>nan</td>    <td>nan</td>    <td>nan</td> \n",
       "</tr>\n",
       "<tr>\n",
       "  <th>Insurance</th>                           <td>nan</td>     <td>nan</td>    <td>nan</td> <td>nan</td>  <td>nan</td>    <td>nan</td>    <td>nan</td> \n",
       "</tr>\n",
       "<tr>\n",
       "  <th>Loan and Investment</th>                 <td>nan</td>     <td>nan</td>    <td>nan</td> <td>nan</td>  <td>nan</td>    <td>nan</td>    <td>nan</td> \n",
       "</tr>\n",
       "<tr>\n",
       "  <th>Non-Profit Producers' Cooperative</th>   <td>nan</td>     <td>nan</td>    <td>nan</td> <td>nan</td>  <td>nan</td>    <td>nan</td>    <td>nan</td> \n",
       "</tr>\n",
       "<tr>\n",
       "  <th>Professional Service Corporation</th>    <td>nan</td>     <td>nan</td>    <td>nan</td> <td>nan</td>  <td>nan</td>    <td>nan</td>    <td>nan</td> \n",
       "</tr>\n",
       "<tr>\n",
       "  <th>Transportation</th>                      <td>nan</td>     <td>nan</td>    <td>nan</td> <td>nan</td>  <td>nan</td>    <td>nan</td>    <td>nan</td> \n",
       "</tr>\n",
       "<tr>\n",
       "  <th>accessori</th>                           <td>nan</td>     <td>nan</td>    <td>nan</td> <td>nan</td>  <td>nan</td>    <td>nan</td>    <td>nan</td> \n",
       "</tr>\n",
       "<tr>\n",
       "  <th>account</th>                             <td>nan</td>     <td>nan</td>    <td>nan</td> <td>nan</td>  <td>nan</td>    <td>nan</td>    <td>nan</td> \n",
       "</tr>\n",
       "<tr>\n",
       "  <th>acquir</th>                              <td>nan</td>     <td>nan</td>    <td>nan</td> <td>nan</td>  <td>nan</td>    <td>nan</td>    <td>nan</td> \n",
       "</tr>\n",
       "<tr>\n",
       "  <th>acquisit</th>                            <td>nan</td>     <td>nan</td>    <td>nan</td> <td>nan</td>  <td>nan</td>    <td>nan</td>    <td>nan</td> \n",
       "</tr>\n",
       "<tr>\n",
       "  <th>act</th>                                 <td>nan</td>     <td>nan</td>    <td>nan</td> <td>nan</td>  <td>nan</td>    <td>nan</td>    <td>nan</td> \n",
       "</tr>\n",
       "<tr>\n",
       "  <th>activ</th>                               <td>nan</td>     <td>nan</td>    <td>nan</td> <td>nan</td>  <td>nan</td>    <td>nan</td>    <td>nan</td> \n",
       "</tr>\n",
       "<tr>\n",
       "  <th>administr</th>                           <td>nan</td>     <td>nan</td>    <td>nan</td> <td>nan</td>  <td>nan</td>    <td>nan</td>    <td>nan</td> \n",
       "</tr>\n",
       "<tr>\n",
       "  <th>advanc</th>                              <td>nan</td>     <td>nan</td>    <td>nan</td> <td>nan</td>  <td>nan</td>    <td>nan</td>    <td>nan</td> \n",
       "</tr>\n",
       "<tr>\n",
       "  <th>advertis</th>                            <td>nan</td>     <td>nan</td>    <td>nan</td> <td>nan</td>  <td>nan</td>    <td>nan</td>    <td>nan</td> \n",
       "</tr>\n",
       "<tr>\n",
       "  <th>agenc</th>                               <td>nan</td>     <td>nan</td>    <td>nan</td> <td>nan</td>  <td>nan</td>    <td>nan</td>    <td>nan</td> \n",
       "</tr>\n",
       "<tr>\n",
       "  <th>agent</th>                               <td>nan</td>     <td>nan</td>    <td>nan</td> <td>nan</td>  <td>nan</td>    <td>nan</td>    <td>nan</td> \n",
       "</tr>\n",
       "</table>"
      ],
      "text/plain": [
       "<class 'statsmodels.iolib.summary2.Summary'>\n",
       "\"\"\"\n",
       "                                Results: PHReg\n",
       "==============================================================================\n",
       "Model:                       PH Reg                  Sample size:        15000\n",
       "Dependent variable:          log_censored_tib        Num. events:        11197\n",
       "Ties:                        Breslow                                          \n",
       "------------------------------------------------------------------------------\n",
       "                                  log HR log HR SE  HR  t  P>|t| [0.025 0.975]\n",
       "------------------------------------------------------------------------------\n",
       "Bank                                 nan       nan nan nan   nan    nan    nan\n",
       "Domestic Non-Profit Corporation      nan       nan nan nan   nan    nan    nan\n",
       "Domestic Profit Corporation          nan       nan nan nan   nan    nan    nan\n",
       "Foreign Non-Profit Corporation       nan       nan nan nan   nan    nan    nan\n",
       "Insurance                            nan       nan nan nan   nan    nan    nan\n",
       "Loan and Investment                  nan       nan nan nan   nan    nan    nan\n",
       "Non-Profit Producers' Cooperative    nan       nan nan nan   nan    nan    nan\n",
       "Professional Service Corporation     nan       nan nan nan   nan    nan    nan\n",
       "Transportation                       nan       nan nan nan   nan    nan    nan\n",
       "accessori                            nan       nan nan nan   nan    nan    nan\n",
       "account                              nan       nan nan nan   nan    nan    nan\n",
       "acquir                               nan       nan nan nan   nan    nan    nan\n",
       "acquisit                             nan       nan nan nan   nan    nan    nan\n",
       "act                                  nan       nan nan nan   nan    nan    nan\n",
       "activ                                nan       nan nan nan   nan    nan    nan\n",
       "administr                            nan       nan nan nan   nan    nan    nan\n",
       "advanc                               nan       nan nan nan   nan    nan    nan\n",
       "advertis                             nan       nan nan nan   nan    nan    nan\n",
       "agenc                                nan       nan nan nan   nan    nan    nan\n",
       "agent                                nan       nan nan nan   nan    nan    nan\n",
       "==============================================================================\n",
       "Confidence intervals are for the hazard ratios\n",
       "\"\"\""
      ]
     },
     "execution_count": 39,
     "metadata": {},
     "output_type": "execute_result"
    }
   ],
   "source": [
    "sf_officers = sm.duration.PHReg(\n",
    "    y_train_officers[:15000],\n",
    "    X_train_officers2[:15000].astype(float),\n",
    "    status=X_train_officers[:15000].is_tib_censored)\n",
    "officers_result = sf_officers.fit()\n",
    "officers_result.summary()"
   ]
  },
  {
   "cell_type": "code",
   "execution_count": null,
   "metadata": {},
   "outputs": [],
   "source": []
  },
  {
   "cell_type": "code",
   "execution_count": null,
   "metadata": {},
   "outputs": [],
   "source": []
  },
  {
   "cell_type": "code",
   "execution_count": null,
   "metadata": {},
   "outputs": [],
   "source": []
  },
  {
   "cell_type": "code",
   "execution_count": null,
   "metadata": {},
   "outputs": [],
   "source": [
    "sf_officers = sm.duration.PHReg(y_train_officers, X_train_officers2.astype(float), status=X_train_officers.is_tib_censored)\n",
    "officers_result = sf_officers.fit()\n",
    "officers_result.summary()"
   ]
  },
  {
   "cell_type": "code",
   "execution_count": null,
   "metadata": {},
   "outputs": [],
   "source": [
    "for item in X_train_officers2.columns:\n",
    "    print(item)"
   ]
  },
  {
   "cell_type": "code",
   "execution_count": null,
   "metadata": {},
   "outputs": [],
   "source": [
    "#df[df.isnull().any(axis=1)]\n",
    "#df_w_officers[explanatory_variables][df_w_officers[explanatory_variables].isnan().any(axis=1)]\n",
    "#df[pd.isnull(df).any(axis=1)]\n",
    "X_train_officers.shape"
   ]
  },
  {
   "cell_type": "code",
   "execution_count": null,
   "metadata": {},
   "outputs": [],
   "source": []
  },
  {
   "cell_type": "code",
   "execution_count": null,
   "metadata": {},
   "outputs": [],
   "source": []
  },
  {
   "cell_type": "code",
   "execution_count": null,
   "metadata": {},
   "outputs": [],
   "source": []
  },
  {
   "cell_type": "code",
   "execution_count": null,
   "metadata": {},
   "outputs": [],
   "source": [
    "# Loss function: squared error isn't appropriate. What are my options for survival regressions?\n",
    "# Is that even a thing for survival regressions? If so, can I use quantile/absolute error?\n",
    "\n",
    "# Don't forget to make ROC curves for all the predictions!"
   ]
  }
 ],
 "metadata": {
  "kernelspec": {
   "display_name": "Python 3",
   "language": "python",
   "name": "python3"
  },
  "language_info": {
   "codemirror_mode": {
    "name": "ipython",
    "version": 3
   },
   "file_extension": ".py",
   "mimetype": "text/x-python",
   "name": "python",
   "nbconvert_exporter": "python",
   "pygments_lexer": "ipython3",
   "version": "3.6.4"
  }
 },
 "nbformat": 4,
 "nbformat_minor": 2
}
